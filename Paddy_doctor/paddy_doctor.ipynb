{
 "cells": [
  {
   "cell_type": "code",
   "execution_count": 1,
   "id": "cb1786c4",
   "metadata": {},
   "outputs": [],
   "source": [
    "import os"
   ]
  },
  {
   "cell_type": "code",
   "execution_count": 5,
   "id": "f5c58fc8",
   "metadata": {},
   "outputs": [],
   "source": [
    "data_dir = r'C:\\Users\\lenovo\\Downloads\\paddy_doctor'"
   ]
  },
  {
   "cell_type": "code",
   "execution_count": 6,
   "id": "ac4bd887",
   "metadata": {},
   "outputs": [
    {
     "data": {
      "text/plain": [
       "['test_images', 'train_images']"
      ]
     },
     "execution_count": 6,
     "metadata": {},
     "output_type": "execute_result"
    }
   ],
   "source": [
    "os.listdir(data_dir)"
   ]
  },
  {
   "cell_type": "code",
   "execution_count": 7,
   "id": "b6e4abb1",
   "metadata": {},
   "outputs": [],
   "source": [
    "import pandas as pd\n",
    "import numpy as np\n",
    "import matplotlib.pyplot as plt\n",
    "import seaborn as sns"
   ]
  },
  {
   "cell_type": "markdown",
   "id": "c7ed8e00",
   "metadata": {},
   "source": [
    "To read images directly from train and test images we use matplotlib.image"
   ]
  },
  {
   "cell_type": "code",
   "execution_count": 8,
   "id": "2a6f9e92",
   "metadata": {},
   "outputs": [],
   "source": [
    "from matplotlib.image import imread"
   ]
  },
  {
   "cell_type": "code",
   "execution_count": 11,
   "id": "e23f286a",
   "metadata": {},
   "outputs": [],
   "source": [
    "train_path = os.path.join(data_dir,'train_images')\n",
    "test_path = os.path.join(data_dir,'test_images')"
   ]
  },
  {
   "cell_type": "code",
   "execution_count": 14,
   "id": "53280afd",
   "metadata": {},
   "outputs": [
    {
     "data": {
      "text/plain": [
       "'C:\\\\Users\\\\lenovo\\\\Downloads\\\\paddy_doctor\\\\train_images'"
      ]
     },
     "execution_count": 14,
     "metadata": {},
     "output_type": "execute_result"
    }
   ],
   "source": [
    "train_path"
   ]
  },
  {
   "cell_type": "code",
   "execution_count": 15,
   "id": "c865be71",
   "metadata": {},
   "outputs": [
    {
     "data": {
      "text/plain": [
       "['bacterial_leaf_blight',\n",
       " 'bacterial_leaf_streak',\n",
       " 'bacterial_panicle_blight',\n",
       " 'blast',\n",
       " 'brown_spot',\n",
       " 'dead_heart',\n",
       " 'downy_mildew',\n",
       " 'hispa',\n",
       " 'normal',\n",
       " 'tungro']"
      ]
     },
     "execution_count": 15,
     "metadata": {},
     "output_type": "execute_result"
    }
   ],
   "source": [
    "os.listdir(train_path)"
   ]
  },
  {
   "cell_type": "markdown",
   "id": "66aaa37d",
   "metadata": {},
   "source": [
    "train path has cateories of images"
   ]
  },
  {
   "cell_type": "code",
   "execution_count": 17,
   "id": "2d78be20",
   "metadata": {},
   "outputs": [
    {
     "data": {
      "text/plain": [
       "['200001.jpg', '200002.jpg']"
      ]
     },
     "execution_count": 17,
     "metadata": {},
     "output_type": "execute_result"
    }
   ],
   "source": [
    "os.listdir(test_path)[:2]"
   ]
  },
  {
   "cell_type": "markdown",
   "id": "d9be8800",
   "metadata": {},
   "source": [
    "Test path has images that we need to categorize"
   ]
  },
  {
   "cell_type": "code",
   "execution_count": null,
   "id": "a4d6f63d",
   "metadata": {},
   "outputs": [],
   "source": []
  }
 ],
 "metadata": {
  "kernelspec": {
   "display_name": "Python 3 (ipykernel)",
   "language": "python",
   "name": "python3"
  },
  "language_info": {
   "codemirror_mode": {
    "name": "ipython",
    "version": 3
   },
   "file_extension": ".py",
   "mimetype": "text/x-python",
   "name": "python",
   "nbconvert_exporter": "python",
   "pygments_lexer": "ipython3",
   "version": "3.10.4"
  }
 },
 "nbformat": 4,
 "nbformat_minor": 5
}
